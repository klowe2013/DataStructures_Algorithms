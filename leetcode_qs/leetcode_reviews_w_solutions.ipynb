{
 "cells": [
  {
   "cell_type": "code",
   "execution_count": 3,
   "metadata": {},
   "outputs": [],
   "source": [
    "from typing import List"
   ]
  },
  {
   "cell_type": "markdown",
   "metadata": {},
   "source": [
    "1. Two Sum:\n",
    "\n",
    "Given an array of integers nums and an integer target, return indices of the two numbers such that they add up to target.\n",
    "\n",
    "You may assume that each input would have exactly one solution, and you may not use the same element twice.\n",
    "\n",
    "You can return the answer in any order."
   ]
  },
  {
   "cell_type": "code",
   "execution_count": 4,
   "metadata": {},
   "outputs": [],
   "source": [
    "class Solution:\n",
    "    def twoSum(self, nums: List[int], target: int) -> List[int]:\n",
    "        # We can do this in one pass if we set up a hash\n",
    "        seen_nums = {}\n",
    "        for i, num in enumerate(nums):\n",
    "            comp = target-num\n",
    "            if comp in seen_nums:\n",
    "                return [i, seen_nums[comp]]\n",
    "            seen_nums[num] = i\n",
    "        return []\n"
   ]
  },
  {
   "cell_type": "markdown",
   "metadata": {},
   "source": [
    "2. Add Two Numbers\n",
    "\n",
    "You are given two non-empty linked lists representing two non-negative integers. The digits are stored in reverse order, and each of their nodes contains a single digit. Add the two numbers and return the sum as a linked list.\n",
    "\n",
    "You may assume the two numbers do not contain any leading zero, except the number 0 itself."
   ]
  },
  {
   "cell_type": "code",
   "execution_count": null,
   "metadata": {},
   "outputs": [],
   "source": [
    "class Solution:\n",
    "    def addTwoNumbers(self, l1: Optional[ListNode], l2: Optional[ListNode]) -> Optional[ListNode]:\n",
    "        # Initialize return list\n",
    "        returnList = ListNode(0)\n",
    "        add_node = returnList\n",
    "        # Need a carry-the-one flag, initialized to 0\n",
    "        carry_digit = 0\n",
    "\n",
    "        # From head to tail, add numbers\n",
    "        while l1 is not None or l2 is not None:\n",
    "            # If either is None, we have a special case\n",
    "            if l1 is None:\n",
    "                this_val = l2.val \n",
    "                l2 = l2.next \n",
    "            elif l2 is None:\n",
    "                this_val = l1.val \n",
    "                l1 = l1.next \n",
    "            # Otherwise, add them\n",
    "            else:\n",
    "                this_val = l1.val + l2.val\n",
    "                l1 = l1.next \n",
    "                l2 = l2.next \n",
    "            \n",
    "            # Add to returnList\n",
    "            add_node.next = ListNode((this_val + carry_digit) % 10)\n",
    "            add_node = add_node.next\n",
    "            carry_digit = (this_val + carry_digit) // 10\n",
    "        if carry_digit:\n",
    "            add_node.next = ListNode(1)\n",
    "        \n",
    "        return returnList.next"
   ]
  },
  {
   "cell_type": "markdown",
   "metadata": {},
   "source": [
    "3. Longest substring without repeating characters\n",
    "\n",
    "Given a string s, find the length of the longest substring without repeating characters."
   ]
  },
  {
   "cell_type": "code",
   "execution_count": null,
   "metadata": {},
   "outputs": [],
   "source": [
    "class Solution:\n",
    "    def lengthOfLongestSubstring(self, s: str) -> int:\n",
    "\n",
    "        seen_hash = {}\n",
    "        longest_substr = 0\n",
    "        curr_substr = 0\n",
    "        left = 0\n",
    "        for i, c in enumerate(s):\n",
    "            if c in seen_hash and seen_hash[c] >= left:\n",
    "                # Handle repeats\n",
    "                longest_substr = max(longest_substr, curr_substr)\n",
    "                # Where was this character last seen?\n",
    "                curr_substr = i-seen_hash[c]\n",
    "                left = seen_hash[c]+1                \n",
    "            else:\n",
    "                curr_substr += 1\n",
    "            seen_hash[c] = i\n",
    "            \n",
    "        return max(longest_substr, curr_substr)"
   ]
  },
  {
   "cell_type": "markdown",
   "metadata": {},
   "source": [
    "5. Longest Palindromic Substring \n",
    "\n",
    "Given a string s, return the longest palindromic substring in s."
   ]
  },
  {
   "cell_type": "code",
   "execution_count": null,
   "metadata": {},
   "outputs": [],
   "source": [
    "class Solution:\n",
    "    def longestPalindrome(self, s: str) -> str:\n",
    "        \n",
    "        res = ''\n",
    "\n",
    "        i = 0\n",
    "        while i < len(s):\n",
    "            # Check from i\n",
    "            # Odds (symmetrical, start with left = right)\n",
    "            l = r = i\n",
    "            is_palindrome = True\n",
    "            while l >= 0 and r < len(s) and is_palindrome:\n",
    "                # Check if it is still palindrome\n",
    "                is_palindrome = s[l] == s[r]\n",
    "                if is_palindrome and (l-r+1) > len(res):\n",
    "                    res = s[l:r]\n",
    "                l -= 1\n",
    "                r += 1\n",
    "            \n",
    "            # Now check the evens (asymmetrical, start with left + 1 = right)\n",
    "            l = i\n",
    "            r = i+1\n",
    "            while l >= 0 and r < len(s) and is_palindrome:\n",
    "                # Check if it is still palindrome\n",
    "                is_palindrome = s[l] == s[r]\n",
    "                if is_palindrome and (l-r+1) > len(res):\n",
    "                    res = s[l:r]\n",
    "                l -= 1\n",
    "                r += 1\n",
    "            \n",
    "            i += 1\n",
    "\n",
    "        return res        \n",
    "\n"
   ]
  },
  {
   "cell_type": "markdown",
   "metadata": {},
   "source": [
    "6. Zigzag Conversion\n",
    "\n",
    "The string \"PAYPALISHIRING\" is written in a zigzag pattern on a given number of rows like this: (you may want to display this pattern in a fixed font for better legibility)\n",
    "\n",
    "P   A   H   N\n",
    "A P L S I I G\n",
    "Y   I   R\n",
    "And then read line by line: \"PAHNAPLSIIGYIR\"\n",
    "\n",
    "Write the code that will take a string and make this conversion given a number of rows:"
   ]
  },
  {
   "cell_type": "code",
   "execution_count": null,
   "metadata": {},
   "outputs": [],
   "source": [
    "class Solution:\n",
    "    def convert(self, s: str, numRows: int) -> str:\n",
    "        if numRows == 1:\n",
    "            return s\n",
    "        \n",
    "        # Initialize output lists\n",
    "        out_map = [\"\"]*numRows\n",
    "\n",
    "        # Flag ascending or descending\n",
    "        desc = 0\n",
    "        this_row = 0\n",
    "        for i in range(len(s)):\n",
    "            out_map[this_row] += s[i]\n",
    "            if this_row == (numRows-1) and not desc:\n",
    "                desc = 1\n",
    "            elif this_row == 0 and desc:\n",
    "                desc = 0\n",
    "            this_row += (-1)**desc\n",
    "        \n",
    "        out_str = ''\n",
    "        for i in range(numRows):\n",
    "            out_str += out_map[i]\n",
    "        \n",
    "        return out_str\n"
   ]
  },
  {
   "cell_type": "markdown",
   "metadata": {},
   "source": [
    "7. Reverse Integer\n",
    "\n",
    "Given a signed 32-bit integer x, return x with its digits reversed. If reversing x causes the value to go outside the signed 32-bit integer range [-231, 231 - 1], then return 0.\n",
    "\n",
    "Assume the environment does not allow you to store 64-bit integers (signed or unsigned).\n",
    "\n",
    " "
   ]
  },
  {
   "cell_type": "code",
   "execution_count": null,
   "metadata": {},
   "outputs": [],
   "source": [
    "class Solution:\n",
    "    def reverse(self, x: int) -> int:\n",
    "        \n",
    "        # Do we need to make it negative?\n",
    "        invert = False\n",
    "        if x < 0:\n",
    "            invert = True\n",
    "            x = -x\n",
    "        \n",
    "        out_val = 0\n",
    "        # Loop while there is still a tens digit\n",
    "        while x >= 10:\n",
    "            # This digit is in the 1's place\n",
    "            this_dig = x % 10\n",
    "\n",
    "            # If adding this will be an overflow, return 0\n",
    "            if (2**31)/10 - out_val < this_dig:\n",
    "                return 0\n",
    "            \n",
    "            # If it won't overflow, multiply the previous by 10 to shift left and add this digit\n",
    "            out_val = out_val*10 + this_dig\n",
    "            x = x // 10\n",
    "        # This digit is in the 1's place\n",
    "        this_dig = x % 10\n",
    "\n",
    "        # If adding this will be an overflow, return 0\n",
    "        if (2**31 - this_dig)/10 < out_val:\n",
    "             return 0\n",
    "\n",
    "        # If it won't overflow, multiply the previous by 10 to shift left and add this digit\n",
    "        out_val = out_val*10 + this_dig\n",
    "        x = x // 10\n",
    "\n",
    "        if invert:\n",
    "            out_val = -out_val\n",
    "        \n",
    "        return out_val\n",
    "            "
   ]
  },
  {
   "cell_type": "markdown",
   "metadata": {},
   "source": [
    "17. Letter Combinations of a Phone Number\n",
    "\n",
    "Given a string containing digits from 2-9 inclusive, return all possible letter combinations that the number could represent. Return the answer in any order.\n",
    "\n",
    "A mapping of digits to letters (just like on the telephone buttons) is given below. Note that 1 does not map to any letters."
   ]
  },
  {
   "cell_type": "code",
   "execution_count": null,
   "metadata": {},
   "outputs": [],
   "source": [
    "class Solution:\n",
    "    def letterCombinations(self, digits: str) -> List[str]:\n",
    "        \n",
    "        if not digits:\n",
    "            return []\n",
    "        \n",
    "        mapper = {\n",
    "            '2': ['a', 'b', 'c'],\n",
    "            '3': ['d', 'e', 'f'],\n",
    "            '4': ['g', 'h', 'i'],\n",
    "            '5': ['j', 'k', 'l'],\n",
    "            '6': ['m', 'n', 'o'],\n",
    "            '7': ['p', 'q', 'r', 's'],\n",
    "            '8': ['t', 'u', 'v'],\n",
    "            '9': ['w', 'x', 'y', 'z']\n",
    "        }\n",
    "        \n",
    "        out_list = []\n",
    "        \n",
    "        \n",
    "        # Define the recursive call\n",
    "        def add_next(curr_str):\n",
    "            # Each character should be added sequentially\n",
    "            # So the next digit to map would be the length of the string\n",
    "            # Which also means if len(curr_str) == len(digits), return\n",
    "            if len(curr_str) == len(digits):\n",
    "                out_list.append(curr_str)\n",
    "                return\n",
    "            \n",
    "            # Otherwise, get this digit's characters\n",
    "            these_chars = mapper[digits[len(curr_str)]]\n",
    "            \n",
    "            # Loop through these characters and add to curr_str\n",
    "            for c in these_chars:\n",
    "                next_str = curr_str + c\n",
    "                # Now call the recursion again\n",
    "                add_next(next_str)\n",
    "                \n",
    "        # Run it, initialized on empty\n",
    "        add_next('')\n",
    "        \n",
    "        return out_list\n",
    "            "
   ]
  }
 ],
 "metadata": {
  "kernelspec": {
   "display_name": "Python 3.8.9 64-bit",
   "language": "python",
   "name": "python3"
  },
  "language_info": {
   "codemirror_mode": {
    "name": "ipython",
    "version": 3
   },
   "file_extension": ".py",
   "mimetype": "text/x-python",
   "name": "python",
   "nbconvert_exporter": "python",
   "pygments_lexer": "ipython3",
   "version": "3.8.9"
  },
  "orig_nbformat": 4,
  "vscode": {
   "interpreter": {
    "hash": "31f2aee4e71d21fbe5cf8b01ff0e069b9275f58929596ceb00d14d90e3e16cd6"
   }
  }
 },
 "nbformat": 4,
 "nbformat_minor": 2
}
